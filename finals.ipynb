{
 "cells": [
  {
   "cell_type": "markdown",
   "metadata": {},
   "source": [
    "Part 1. Spectrum counting analysis  \n",
    "1a. highest rounded average count is 215 and 100th rounded average count is 3  \n",
    "1b. KO1    217.0  \n",
    "KO2    217.0  \n",
    "KO3    202.0  \n",
    "KO4    217.0  \n",
    "KO5    217.0  \n",
    "WT1    193.0  \n",
    "WT2    160.0  \n",
    "WT3    176.0  \n",
    "WT4    164.0  \n",
    "WT5    176.0    \n",
    "  \n",
    "2a. see below    \n",
    "2b. Number of peptides with p < 0.05: 234  \n",
    "\n",
    "3a. Number of peptides passing Bonferroni correction: 44  \n",
    "Number of peptides passing Benjamini-Hochberg correction: 88  \n",
    "3b. see below for graph, FDR changes the p value because the p values are adjusted to account or false discovery rate "
   ]
  },
  {
   "cell_type": "code",
   "execution_count": 4,
   "metadata": {},
   "outputs": [
    {
     "data": {
      "text/plain": [
       "(215.0, 3.0)"
      ]
     },
     "execution_count": 4,
     "metadata": {},
     "output_type": "execute_result"
    }
   ],
   "source": [
    "import pandas as pd\n",
    "\n",
    "# Load the dataset to inspect its structure\n",
    "data_path = r\"C:\\Users\\chenm\\Downloads\\spectrum_count.csv\"\n",
    "data = pd.read_csv(data_path)\n",
    "\n",
    "# Sort each column \n",
    "sorted_data = data.iloc[:, 1:].apply(lambda x: x.sort_values(ignore_index=True))\n",
    "\n",
    "# Calculate the rounded average for each quantile across columns\n",
    "quantile_averages = sorted_data.mean(axis=1).round()\n",
    "\n",
    "highest_rounded_average_count = quantile_averages.max()\n",
    "rounded_average_100th = quantile_averages.iloc[99]\n",
    "\n",
    "highest_rounded_average_count, rounded_average_100th\n",
    "\n"
   ]
  },
  {
   "cell_type": "code",
   "execution_count": 5,
   "metadata": {},
   "outputs": [
    {
     "data": {
      "text/plain": [
       "KO1    217.0\n",
       "KO2    217.0\n",
       "KO3    202.0\n",
       "KO4    217.0\n",
       "KO5    217.0\n",
       "WT1    193.0\n",
       "WT2    160.0\n",
       "WT3    176.0\n",
       "WT4    164.0\n",
       "WT5    176.0\n",
       "Name: 0, dtype: float64"
      ]
     },
     "execution_count": 5,
     "metadata": {},
     "output_type": "execute_result"
    }
   ],
   "source": [
    "min_value = data.min().min()\n",
    "data_filled = data.fillna(min_value)\n",
    "\n",
    "# Sort each column independently and compute quantile averages\n",
    "sorted_data = data_filled.apply(lambda x: x.sort_values().reset_index(drop=True), axis=0)\n",
    "quantile_averages = sorted_data.mean(axis=1).round()\n",
    "\n",
    "# Apply quantile averages back to the original data structure, maintaining original indexing\n",
    "adjusted_data = data.apply(lambda x: x.rank(method='first').astype(int) - 1)\n",
    "adjusted_data = adjusted_data.apply(lambda x: quantile_averages[x].values)\n",
    "\n",
    "# Assuming the first row corresponds to 'Protein_1'\n",
    "protein_1_adjusted_counts = adjusted_data.iloc[0]\n",
    "\n",
    "protein_1_adjusted_counts\n",
    "\n"
   ]
  },
  {
   "cell_type": "code",
   "execution_count": 20,
   "metadata": {},
   "outputs": [
    {
     "data": {
      "image/png": "[encoded data removed]",
      "text/plain": [
       "<Figure size 640x480 with 1 Axes>"
      ]
     },
     "metadata": {},
     "output_type": "display_data"
    }
   ],
   "source": [
    "import numpy as np\n",
    "import matplotlib.pyplot as plt\n",
    "from scipy.stats import fisher_exact\n",
    "# Summing the KO columns (KO1 to KO5)\n",
    "adjusted_data['KO'] = adjusted_data[['KO1', 'KO2', 'KO3', 'KO4', 'KO5']].sum(axis=1)\n",
    "\n",
    "# Summing the WT columns (WT1 to WT5)\n",
    "adjusted_data['WT'] = adjusted_data[['WT1', 'WT2', 'WT3', 'WT4', 'WT5']].sum(axis=1)\n",
    "def calculate_log10_p(ko, wt):\n",
    "    # Fisher's exact test requires a 2x2 contingency table.\n",
    "    # We assume the background or expected count is the sum of all KO and WT minus the count for this protein\n",
    "    total_ko = adjusted_data['KO'].sum()\n",
    "    total_wt = adjusted_data['WT'].sum()\n",
    "    n_ko = ko\n",
    "    n_wt = wt\n",
    "    n_ko_bg = total_ko - ko\n",
    "    n_wt_bg = total_wt - wt\n",
    "\n",
    "    # Create a contingency table\n",
    "    table = [[n_ko, n_wt], [n_ko_bg, n_wt_bg]]\n",
    "\n",
    "    # Calculate Fisher's exact test p-value\n",
    "    _, p_value = fisher_exact(table, 'greater')  # Use 'greater' for one-sided test as needed\n",
    "\n",
    "    # Calculate log10(p)\n",
    "    return np.log10(p_value) if p_value > 0 else -np.inf  # Avoid log10(0)\n",
    "\n",
    "# Apply function to each row in DataFrame\n",
    "adjusted_data['log10_p'] = adjusted_data.apply(lambda row: calculate_log10_p(row['KO'], row['WT']), axis=1)\n",
    "\n",
    "# Filter out infinite values which result from log10(0) which could occur if p_value is exactly 0\n",
    "log10_p_values = adjusted_data['log10_p'].replace(-np.inf, np.nan).dropna()\n",
    "\n",
    "# Round values to nearest 0.05 for binning\n",
    "log10_p_values_rounded = np.round(log10_p_values / 0.05) * 0.05\n",
    "\n",
    "# Plot histogram\n",
    "plt.hist(log10_p_values_rounded, bins=np.arange(min(log10_p_values_rounded), max(log10_p_values_rounded) + 0.05, 0.05), edgecolor='black')\n",
    "plt.xlabel('Log10(p) Rounded to Nearest 0.05')\n",
    "plt.ylabel('Frequency')\n",
    "plt.title('Histogram of Log10(p) Values')\n",
    "plt.show()\n",
    "\n"
   ]
  },
  {
   "cell_type": "code",
   "execution_count": 21,
   "metadata": {},
   "outputs": [
    {
     "name": "stdout",
     "output_type": "stream",
     "text": [
      "Number of peptides with p < 0.05: 234\n"
     ]
    }
   ],
   "source": [
    "# Convert log10(p) back to p-values\n",
    "adjusted_data['p_value'] = 10 ** adjusted_data['log10_p']\n",
    "\n",
    "# Count peptides with p < 0.05\n",
    "num_peptides_below_threshold = (adjusted_data['p_value'] < 0.05).sum()\n",
    "\n",
    "print(f\"Number of peptides with p < 0.05: {num_peptides_below_threshold}\")\n",
    "\n"
   ]
  },
  {
   "cell_type": "code",
   "execution_count": 22,
   "metadata": {},
   "outputs": [
    {
     "name": "stdout",
     "output_type": "stream",
     "text": [
      "Number of peptides passing Bonferroni correction: 44\n",
      "Number of peptides passing Benjamini-Hochberg correction: 88\n"
     ]
    }
   ],
   "source": [
    "# Number of tests\n",
    "num_tests = adjusted_data.shape[0]\n",
    "\n",
    "# Bonferroni corrected threshold\n",
    "bonferroni_threshold = 0.05 / num_tests\n",
    "\n",
    "# Counting peptides that pass the Bonferroni threshold\n",
    "num_peptides_bonferroni = (adjusted_data['p_value'] < bonferroni_threshold).sum()\n",
    "\n",
    "print(f\"Number of peptides passing Bonferroni correction: {num_peptides_bonferroni}\")\n",
    "\n",
    "# Convert log10(p) back to p-values if not already done\n",
    "adjusted_data['p_value'] = 10 ** adjusted_data['log10_p']\n",
    "\n",
    "# Sorting p-values in ascending order\n",
    "adjusted_data_sorted = adjusted_data.sort_values(by='p_value')\n",
    "adjusted_data_sorted['rank'] = range(1, len(adjusted_data_sorted) + 1)  # Rank of the p-values\n",
    "\n",
    "# Calculate the critical values for BH correction (i / m * alpha, where i is the rank, m is total tests, alpha is 0.05)\n",
    "adjusted_data_sorted['critical_value'] = (adjusted_data_sorted['rank'] / num_tests) * 0.05\n",
    "\n",
    "# Find the largest rank where p-value is less than the critical value\n",
    "max_rank = adjusted_data_sorted[adjusted_data_sorted['p_value'] <= adjusted_data_sorted['critical_value']]['rank'].max()\n",
    "\n",
    "# Count the number of peptides that pass the BH threshold\n",
    "num_peptides_bh = (adjusted_data_sorted['rank'] <= max_rank).sum() if not np.isnan(max_rank) else 0\n",
    "\n",
    "print(f\"Number of peptides passing Benjamini-Hochberg correction: {num_peptides_bh}\")\n",
    "\n"
   ]
  },
  {
   "cell_type": "code",
   "execution_count": 23,
   "metadata": {},
   "outputs": [
    {
     "data": {
      "image/png": "[encoded data removed]",
      "text/plain": [
       "<Figure size 640x480 with 1 Axes>"
      ]
     },
     "metadata": {},
     "output_type": "display_data"
    }
   ],
   "source": [
    "import numpy as np\n",
    "import matplotlib.pyplot as plt\n",
    "import pandas as pd\n",
    "\n",
    "# Load data and prepare it\n",
    "# adjusted_data should already have p-values computed and added in a 'p_value' column\n",
    "\n",
    "# Sort p-values in ascending order\n",
    "adjusted_data_sorted = adjusted_data.sort_values(by='p_value')\n",
    "adjusted_data_sorted['rank'] = range(1, len(adjusted_data_sorted) + 1)  # Rank the p-values\n",
    "\n",
    "# Calculate q-values\n",
    "adjusted_data_sorted['q_value'] = adjusted_data_sorted['p_value'] * (len(adjusted_data_sorted) / adjusted_data_sorted['rank'])\n",
    "\n",
    "# Now let's adjust these q-values to be non-decreasing\n",
    "adjusted_data_sorted['q_value'] = adjusted_data_sorted['q_value'][::-1].cummin()[::-1]\n",
    "\n",
    "# Round q-values to the nearest 0.05 for binning\n",
    "adjusted_data_sorted['q_value_rounded'] = np.round(adjusted_data_sorted['q_value'] / 0.05) * 0.05\n",
    "\n",
    "# Plot histogram of the q-values\n",
    "plt.hist(adjusted_data_sorted['q_value_rounded'], bins=np.arange(0, adjusted_data_sorted['q_value_rounded'].max() + 0.05, 0.05), edgecolor='black')\n",
    "plt.xlabel('Q-Values Rounded to Nearest 0.05')\n",
    "plt.ylabel('Frequency')\n",
    "plt.title('Histogram of Q-Values')\n",
    "plt.show()\n",
    "\n"
   ]
  },
  {
   "cell_type": "markdown",
   "metadata": {},
   "source": [
    "Part 3: the ascore algorithm  \n",
    "1a. b-type ions:  \n",
    "\n",
    "b1: S  \n",
    "b2: SLp  \n",
    "b3: SLEp  \n",
    "b4: SLEPpS  \n",
    "b5: SLEPpSG  \n",
    "b6: SLEPpSGI  \n",
    "b7: SLEPpSGIL  \n",
    "b8: SLEPpSGILL  \n",
    "b9: SLEPpSGILLK  \n",
    "y-type ions:  \n",
    "\n",
    "y1: K  \n",
    "y2: LK  \n",
    "y3: ILK  \n",
    "y4: GILK  \n",
    "y5: SGILK  \n",
    "y6: PSGILK  \n",
    "y7: EPSGILK  \n",
    "y8: LEPSGILK  \n",
    "y9: SLEPSGILK  \n",
    "\n",
    "1b. b-type ions:\n",
    "('b1', 'S', 87.03)\n",
    "('b2', 'SL', 280.17)\n",
    "('b3', 'SLE', 409.29)\n",
    "('b4', 'SLEP', 506.41)\n",
    "('b5', 'SLEPS', 593.44)\n",
    "('b6', 'SLEPSG', 650.46)\n",
    "('b7', 'SLEPSGI', 763.62)\n",
    "('b8', 'SLEPSGIL', 876.78)\n",
    "('b9', 'SLEPSGILL', 989.94)\n",
    "\n",
    "y-type ions:\n",
    "('y1', 'K', 208.16)\n",
    "('y2', 'LK', 321.32)\n",
    "('y3', 'LLK', 434.48)\n",
    "('y4', 'ILLK', 547.64)\n",
    "('y5', 'GILLK', 604.66)\n",
    "('y6', 'SGILLK', 691.69)\n",
    "('y7', 'PSGILLK', 788.81)\n",
    "('y8', 'EPSGILLK', 917.93)\n",
    "('y9', 'LEPSGILLK', 951.11)  \n",
    "\n",
    "2a. Matched b-type ions: 2  \n",
    "Matched y-type ions: 6  \n",
    "Total distinguishing ions (n): 8  \n",
    "Matched b-type ions details:  \n",
    "281.177276 matched.  \n",
    "410.297276 matched.  \n",
    "Matched y-type ions details:  \n",
    "129.17727599999998 matched.  \n",
    "242.337276 matched.  \n",
    "355.497276 matched.  \n",
    "468.65727599999997 matched.  \n",
    "709.8272760000001 matched.  \n",
    "838.9472760000001 matched.   \n",
    "\n",
    "3a. Probability of best isomer (P1): 9.154956960000008e-12  \n",
    "Probability of second best isomer (P2): 6.442043387911565e-06  \n",
    "Ascore: -58.47367338614062  \n",
    "3b. New Probability of best isomer (P1): 0.0147857666015625  \n",
    "New Probability of second best isomer (P2): 0.17619705200195312  \n",
    "New Ascore: -10.76154791417437, the score does improve/ increase  \n",
    "3c. p would increase proportionally if tolerance is reduced and score would increase due to p \n",
    "\n"
   ]
  },
  {
   "cell_type": "code",
   "execution_count": 10,
   "metadata": {},
   "outputs": [
    {
     "name": "stdout",
     "output_type": "stream",
     "text": [
      "b-type ions:\n",
      "('b1', 'S', 87.03)\n",
      "('b2', 'SL', 280.17)\n",
      "('b3', 'SLE', 409.29)\n",
      "('b4', 'SLEP', 506.41)\n",
      "('b5', 'SLEPS', 593.44)\n",
      "('b6', 'SLEPSG', 650.46)\n",
      "('b7', 'SLEPSGI', 763.62)\n",
      "('b8', 'SLEPSGIL', 876.78)\n",
      "('b9', 'SLEPSGILL', 989.94)\n",
      "\n",
      "y-type ions:\n",
      "('y1', 'K', 208.16)\n",
      "('y2', 'LK', 321.32)\n",
      "('y3', 'LLK', 434.48)\n",
      "('y4', 'ILLK', 547.64)\n",
      "('y5', 'GILLK', 604.66)\n",
      "('y6', 'SGILLK', 691.69)\n",
      "('y7', 'PSGILLK', 788.81)\n",
      "('y8', 'EPSGILLK', 917.93)\n",
      "('y9', 'LEPSGILLK', 951.11)\n"
     ]
    }
   ],
   "source": [
    "# Define the amino acid masses (monoisotopic)\n",
    "amino_acid_masses = {\n",
    "    'S': 87.03,  # Including common mass of Serine\n",
    "    'L': 113.16,\n",
    "    'E': 129.12,\n",
    "    'P': 97.12,\n",
    "    'G': 57.02,\n",
    "    'I': 113.16,\n",
    "    'K': 128.18\n",
    "}\n",
    "\n",
    "# Phosphorylation mass increase\n",
    "phosphorylation_mass = 79.98\n",
    "\n",
    "# Calculate the mass of a peptide sequence\n",
    "def calculate_mass(sequence):\n",
    "    mass = 0.0\n",
    "    for aa in sequence:\n",
    "        mass += amino_acid_masses.get(aa, 0)\n",
    "    return mass\n",
    "\n",
    "# Generate b- and y-type ions for a phosphopeptide with phosphorylation at a given position (1-based index)\n",
    "def generate_ions(sequence, phospho_position):\n",
    "    b_ions = []\n",
    "    y_ions = []\n",
    "    \n",
    "    # Generate b- and y-type ions\n",
    "    for i in range(1, len(sequence)):\n",
    "        b_seq = sequence[:i]\n",
    "        y_seq = sequence[-i:]\n",
    "        \n",
    "        # Add phosphorylation mass if within the phospho position\n",
    "        b_mass = calculate_mass(b_seq)\n",
    "        y_mass = calculate_mass(y_seq)\n",
    "        \n",
    "        if i >= phospho_position:\n",
    "            b_mass += phosphorylation_mass\n",
    "        \n",
    "        if len(sequence) - i >= phospho_position:\n",
    "            y_mass += phosphorylation_mass\n",
    "        \n",
    "        b_ions.append((f\"b{i}\", b_seq, round(b_mass, 2)))\n",
    "        y_ions.append((f\"y{i}\", y_seq, round(y_mass, 2)))\n",
    "    \n",
    "    return b_ions, y_ions\n",
    "\n",
    "# Example usage\n",
    "sequence = 'SLEPSGILLK'\n",
    "phospho_position = 2  # Assuming phosphorylation is on the second residue (S)\n",
    "\n",
    "b_ions, y_ions = generate_ions(sequence, phospho_position)\n",
    "\n",
    "# Output the ions and their masses\n",
    "print(\"b-type ions:\")\n",
    "for ion in b_ions:\n",
    "    print(ion)\n",
    "\n",
    "print(\"\\ny-type ions:\")\n",
    "for ion in y_ions:\n",
    "    print(ion)\n"
   ]
  },
  {
   "cell_type": "code",
   "execution_count": 17,
   "metadata": {},
   "outputs": [
    {
     "name": "stdout",
     "output_type": "stream",
     "text": [
      "Matched b-type ions: 2\n",
      "Matched y-type ions: 6\n",
      "Total distinguishing ions (n): 8\n",
      "Matched b-type ions details:\n",
      "281.177276 matched.\n",
      "410.297276 matched.\n",
      "Matched y-type ions details:\n",
      "129.17727599999998 matched.\n",
      "242.337276 matched.\n",
      "355.497276 matched.\n",
      "468.65727599999997 matched.\n",
      "709.8272760000001 matched.\n",
      "838.9472760000001 matched.\n"
     ]
    }
   ],
   "source": [
    "import numpy as np\n",
    "\n",
    "# Define theoretical ions masses for b-type and y-type\n",
    "b_ions_masses = [280.17, 409.29, 506.41, 593.44, 650.46, 763.62, 876.78, 989.94]\n",
    "y_ions_masses = [128.17, 241.33, 354.49, 467.65, 524.67, 611.70, 708.82, 837.94, 951.11]\n",
    "\n",
    "# Add a proton mass to each theoretical ion mass to account for the charge state\n",
    "proton_mass = 1.007276\n",
    "b_ions_masses = [mass + proton_mass for mass in b_ions_masses]\n",
    "y_ions_masses = [mass + proton_mass for mass in y_ions_masses]\n",
    "\n",
    "# Experimental m/z values\n",
    "experimental_mz = [\n",
    "    120.08, 126.09, 129.10, 130.07, 130.09, 136.08, 147.11, 155.12, 173.13,\n",
    "    175.12, 183.11, 185.09, 201.12, 238.15, 242.11, 249.12, 253.09, 260.20,\n",
    "    266.15, 281.09, 284.16, 294.14, 303.18, 312.15, 313.16, 327.20, 355.20,\n",
    "    356.20, 364.24, 364.74, 373.28, 410.13, 438.23, 440.29, 454.26, 454.77,\n",
    "    466.23, 468.28, 469.28, 486.36, 519.81, 520.31, 543.38, 553.37, 569.32,\n",
    "    581.36, 582.37, 614.33, 630.42, 631.42, 709.46, 727.47, 728.35, 728.47,\n",
    "    729.47, 774.41, 838.50, 839.50, 856.51, 857.51, 858.51\n",
    "]\n",
    "\n",
    "# Match theoretical ions with experimental values within a tolerance of ±0.5\n",
    "mass_tolerance = 0.5\n",
    "matches_b = {ion: any(np.isclose(ion, exp_mz, atol=mass_tolerance) for exp_mz in experimental_mz) for ion in b_ions_masses}\n",
    "matches_y = {ion: any(np.isclose(ion, exp_mz, atol=mass_tolerance) for exp_mz in experimental_mz) for ion in y_ions_masses}\n",
    "\n",
    "# Count the matches\n",
    "matched_b = sum(matches_b.values())\n",
    "matched_y = sum(matches_y.values())\n",
    "\n",
    "# Print the matches\n",
    "print(\"Matched b-type ions:\", matched_b)\n",
    "print(\"Matched y-type ions:\", matched_y)\n",
    "print(\"Total distinguishing ions (n):\", matched_b + matched_y)\n",
    "\n",
    "# Display which ions matched for further investigation\n",
    "print(\"Matched b-type ions details:\")\n",
    "for ion, matched in matches_b.items():\n",
    "    if matched:\n",
    "        print(f\"{ion} matched.\")\n",
    "\n",
    "print(\"Matched y-type ions details:\")\n",
    "for ion, matched in matches_y.items():\n",
    "    if matched:\n",
    "        print(f\"{ion} matched.\")\n",
    "\n"
   ]
  },
  {
   "cell_type": "code",
   "execution_count": 24,
   "metadata": {},
   "outputs": [
    {
     "name": "stdout",
     "output_type": "stream",
     "text": [
      "Probability of best isomer (P1): 9.154956960000008e-12\n",
      "Probability of second best isomer (P2): 6.442043387911565e-06\n",
      "Ascore: -58.47367338614062\n"
     ]
    }
   ],
   "source": [
    "from scipy.special import comb\n",
    "from scipy.stats import binom\n",
    "import numpy as np\n",
    "\n",
    "# Given values\n",
    "N = 20  # Let's assume there are 20 possible matching ions\n",
    "n1 = 15  # Number of matches for best isomer\n",
    "n2 = 10  # Number of matches for second best isomer\n",
    "p = 0.1  # Prior probability of a correct match\n",
    "\n",
    "# Calculate probabilities using the binomial distribution formula\n",
    "P1 = comb(N, n1) * (p**n1) * ((1-p)**(N-n1))\n",
    "P2 = comb(N, n2) * (p**n2) * ((1-p)**(N-n2))\n",
    "\n",
    "# Calculate Ascore\n",
    "Ascore = 10 * np.log10(P1 / P2)\n",
    "\n",
    "print(f\"Probability of best isomer (P1): {P1}\")\n",
    "print(f\"Probability of second best isomer (P2): {P2}\")\n",
    "print(f\"Ascore: {Ascore}\")\n"
   ]
  },
  {
   "cell_type": "code",
   "execution_count": 25,
   "metadata": {},
   "outputs": [
    {
     "name": "stdout",
     "output_type": "stream",
     "text": [
      "New Probability of best isomer (P1): 0.0147857666015625\n",
      "New Probability of second best isomer (P2): 0.17619705200195312\n",
      "New Ascore: -10.76154791417437\n"
     ]
    }
   ],
   "source": [
    "from scipy.special import comb\n",
    "from scipy.stats import binom\n",
    "import numpy as np\n",
    "\n",
    "# Revised values\n",
    "N = 20  # Total possible matching ions remains (adjust based on your actual theoretical spectrum calculations)\n",
    "n1 = 15  # Number of matches for best isomer remains\n",
    "n2 = 10  # Number of matches for second best isomer remains\n",
    "p_new = 0.5  # New prior probability given peak depth=1 and reduced noise\n",
    "\n",
    "# Calculate probabilities using the binomial distribution formula\n",
    "P1_new = comb(N, n1) * (p_new**n1) * ((1-p_new)**(N-n1))\n",
    "P2_new = comb(N, n2) * (p_new**n2) * ((1-p_new)**(N-n2))\n",
    "\n",
    "# Calculate Ascore\n",
    "Ascore_new = 10 * np.log10(P1_new / P2_new)\n",
    "\n",
    "print(f\"New Probability of best isomer (P1): {P1_new}\")\n",
    "print(f\"New Probability of second best isomer (P2): {P2_new}\")\n",
    "print(f\"New Ascore: {Ascore_new}\")\n",
    "\n"
   ]
  },
  {
   "cell_type": "code",
   "execution_count": 26,
   "metadata": {},
   "outputs": [
    {
     "name": "stdout",
     "output_type": "stream",
     "text": [
      "Adjusted Probability of best isomer (P1) with new p: 1.6647293239296019e-07\n",
      "Adjusted Probability of second best isomer (P2) with new p: 0.0020314137030138287\n",
      "Adjusted Ascore with new p: -40.86454748057249\n"
     ]
    }
   ],
   "source": [
    "from scipy.special import comb\n",
    "import numpy as np\n",
    "\n",
    "# Re-estimate the probabilities with new p\n",
    "N = 20  # Total ions possible\n",
    "n1 = 15  # Best match count\n",
    "n2 = 10  # Second-best match count\n",
    "p_new = 0.2  # Adjusted prior probability with tighter mass accuracy\n",
    "\n",
    "P1_new = comb(N, n1) * (p_new**n1) * ((1-p_new)**(N-n1))\n",
    "P2_new = comb(N, n2) * (p_new**n2) * ((1-p_new)**(N-n2))\n",
    "Ascore_new = 10 * np.log10(P1_new / P2_new)\n",
    "\n",
    "print(f\"Adjusted Probability of best isomer (P1) with new p: {P1_new}\")\n",
    "print(f\"Adjusted Probability of second best isomer (P2) with new p: {P2_new}\")\n",
    "print(f\"Adjusted Ascore with new p: {Ascore_new}\")\n"
   ]
  }
 ],
 "metadata": {
  "kernelspec": {
   "display_name": "Python 3",
   "language": "python",
   "name": "python3"
  },
  "language_info": {
   "codemirror_mode": {
    "name": "ipython",
    "version": 3
   },
   "file_extension": ".py",
   "mimetype": "text/x-python",
   "name": "python",
   "nbconvert_exporter": "python",
   "pygments_lexer": "ipython3",
   "version": "3.11.1"
  }
 },
 "nbformat": 4,
 "nbformat_minor": 2
}
