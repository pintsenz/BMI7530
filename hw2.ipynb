{
 "cells": [
  {
   "cell_type": "code",
   "execution_count": 1,
   "metadata": {},
   "outputs": [
    {
     "name": "stdout",
     "output_type": "stream",
     "text": [
      "matched_a_ions={239.11: (239.11, 'a+'), 695.37: (695.36, 'a+')}\n",
      "matched_b_ions={267.11: (267.11, 'b+'), 380.19: (380.19, 'b+'), 481.24: (481.24, 'b+'), 610.28: (610.28, 'b+'), 723.37: (723.36, 'b+'), 1023.51: (1023.5, 'b+'), 1237.6: (1237.6, 'b+'), 1467.7: (1467.6899999999998, 'b+')}\n",
      "matched_y_ions={147.11: (147.12, 'y+'), 204.13: (204.14000000000001, 'y+'), 291.16: (291.17, 'y+'), 419.23: (419.23, 'y+'), 520.28: (520.28, 'y+'), 649.31: (649.3199999999999, 'y+'), 748.39: (748.3899999999999, 'y+'), 863.41: (863.4199999999998, 'y+'), 1076.52: (1076.5299999999997, 'y+'), 1163.55: (1163.5599999999997, 'y+'), 1276.64: (1276.6399999999996, 'y+'), 1405.68: (1405.6799999999996, 'y+'), 1506.72: (1506.7299999999996, 'y+'), 1619.8: (1619.8099999999995, 'y+')}\n"
     ]
    }
   ],
   "source": [
    "#defineing the amino acids and their masses as given by the sequence \n",
    "amino_acid_masses = {\n",
    "    'G': 57.02, 'A': 71.04, 'S': 87.03, 'P': 97.05, 'V': 99.07, 'T': 101.05,\n",
    "    'L': 113.08, 'I': 113.08, 'N': 114.04, 'D': 115.03, 'Q': 128.06,\n",
    "    'K': 128.09, 'E': 129.04, 'M': 131.04, 'H': 137.06, 'F': 147.07,\n",
    "    'R': 156.10, 'C': 160.06, 'Y': 163.06, 'W': 186.08\n",
    "}\n",
    "\n",
    "sequence = 'HELTEISNVDVETQSGK'\n",
    "\n",
    "# making lists to add values to them: b, y, a\n",
    "b_ions = []\n",
    "y_ions = []\n",
    "a_ions = []\n",
    "current_b_mass = 1.01\n",
    "current_y_mass = 18.02 +1.01\n",
    "current_a_mass = -26.99\n",
    "\n",
    "# Calculate b-ions (from the N-terminus)\n",
    "for aa in sequence:\n",
    "    current_b_mass += amino_acid_masses[aa]\n",
    "    b_ions.append(current_b_mass)\n",
    "\n",
    "# Calculate y-ions (from the C-terminus so reverse)\n",
    "for aa in reversed(sequence):\n",
    "    current_y_mass += amino_acid_masses[aa]\n",
    "    y_ions.insert(0, current_y_mass)\n",
    "\n",
    "# Calculate the a-ions (b-ion mass - 28.03 Da)\n",
    "# 28 da is for the a ions as [N]+[M]-CO\n",
    "for aa in sequence:\n",
    "    current_a_mass += amino_acid_masses[aa]\n",
    "    a_ions.append(current_a_mass)\n",
    "\n",
    "theoretical_ions = (y_ions, b_ions, a_ions)\n",
    "\n",
    "# Define the observed peaks (m/z, intensity)\n",
    "observed_peaks = [\n",
    "    (130.09, 4977.0), (147.11, 5816.1), (183.66, 4660.0), (204.13, 9940.3), (211.10, 5604.4), (239.11, 31797.1), (249.10, 21872.5), (267.11, 128489.5),\n",
    "    (291.16, 34083.3), (296.48, 5283.5), (304.88, 10479.2), (322.19, 8743.9), (362.18, 46755.3), (380.19, 39560.5), (402.20, 5183.9), (419.23, 7716.1), (439.16, 7716.1),(463.23,11143.2), (481.24, 10153.8),\n",
    "    (520.28, 45374.6), (592.27, 9498.7), (610.28, 53161.8), (649.31, 42469.9), (695.37, 7337.5),(723.37, 48555.8),\n",
    "    (748.39, 29821.2), (810.41, 10799.5), (863.41, 38602.8), (924.45, 7684.1), (926.45, 21049.9),\n",
    "    (934.46, 39395.7), (1023.51, 19690.2), (1076.52, 25272.7), (1138.55, 27930.7), (1163.55, 74982.1),\n",
    "    (1237.60, 10679.8), (1276.64, 37540.7), (1298.62, 5738.4),(1405.68, 21377.9), (1450, 5497.0),(1467.70, 9944.6),\n",
    "    (1506.72, 36270.1), (1508.72,7378.1), (1619.80, 40099.0)\n",
    "]\n",
    "\n",
    "# Define a function to match the observed peaks with theoretical ions\n",
    "def match_ions(theoretical_ions, observed_peaks, ion_type):\n",
    "    match_ions = {}\n",
    "    for mz, intensity in observed_peaks:\n",
    "        # Find the closest theoretical ion within a certain tolerance (0.5 Da)\n",
    "        closest_ion = min(theoretical_ions, key=lambda x: abs(x - mz))\n",
    "        difference = abs(closest_ion-mz)\n",
    "        if difference < .015:\n",
    "            match_ions[mz] = (closest_ion, ion_type)\n",
    "    return match_ions\n",
    "\n",
    "# Match b, y, and a ions with the observed peaks\n",
    "matched_b_ions = match_ions(b_ions, observed_peaks, 'b+')\n",
    "matched_y_ions = match_ions(y_ions, observed_peaks, 'y+')\n",
    "matched_a_ions = match_ions(a_ions, observed_peaks, 'a+')\n",
    "\n",
    "# Output the matched ions\n",
    "print(f'{matched_a_ions=}')\n",
    "print(f'{matched_b_ions=}')\n",
    "print(f'{matched_y_ions=}')\n",
    "\n",
    "\n"
   ]
  }
 ],
 "metadata": {
  "kernelspec": {
   "display_name": "Python 3",
   "language": "python",
   "name": "python3"
  },
  "language_info": {
   "codemirror_mode": {
    "name": "ipython",
    "version": 3
   },
   "file_extension": ".py",
   "mimetype": "text/x-python",
   "name": "python",
   "nbconvert_exporter": "python",
   "pygments_lexer": "ipython3",
   "version": "3.12.1"
  },
  "orig_nbformat": 4
 },
 "nbformat": 4,
 "nbformat_minor": 2
}
